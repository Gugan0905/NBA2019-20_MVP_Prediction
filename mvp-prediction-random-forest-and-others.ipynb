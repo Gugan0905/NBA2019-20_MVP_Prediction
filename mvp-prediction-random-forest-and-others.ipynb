{
 "cells": [
  {
   "cell_type": "code",
   "execution_count": null,
   "metadata": {},
   "outputs": [],
   "source": [
    "## REFERENCE\n",
    "#https://www.kaggle.com/ishaanupadhyay/mvp-prediction-random-forest-and-others"
   ]
  },
  {
   "cell_type": "code",
   "execution_count": null,
   "metadata": {
    "_cell_guid": "b1076dfc-b9ad-4769-8c92-a6c4dae69d19",
    "_uuid": "8f2839f25d086af736a60e9eeb907d3b93b6e0e5"
   },
   "outputs": [],
   "source": [
    "# This Python 3 environment comes with many helpful analytics libraries installed\n",
    "# It is defined by the kaggle/python docker image: https://github.com/kaggle/docker-python\n",
    "# For example, here's several helpful packages to load in \n",
    "\n",
    "import numpy as np # linear algebra\n",
    "import pandas as pd # data processing, CSV file I/O (e.g. pd.read_csv)\n",
    "import matplotlib.pyplot as plt # plotting correlation\n",
    "# Input data files are available in the \"../input/\" directory.\n",
    "# For example, running this (by clicking run or pressing Shift+Enter) will list all files under the input directory\n",
    "\n",
    "import os\n",
    "for dirname, _, filenames in os.walk('/kaggle/input'):\n",
    "    for filename in filenames:\n",
    "        print(os.path.join(dirname, filename))\n",
    "\n",
    "# Any results you write to the current directory are saved as output.\n"
   ]
  },
  {
   "cell_type": "code",
   "execution_count": null,
   "metadata": {
    "_cell_guid": "",
    "_uuid": ""
   },
   "outputs": [],
   "source": [
    "import pandas as pd\n",
    "mvp_votings = pd.read_csv(\"../input/nba-mvp-votings-through-history/mvp_votings.csv\")\n",
    "test_data = pd.read_csv(\"../input/project-try/test_data_2019-20.csv\")"
   ]
  },
  {
   "cell_type": "code",
   "execution_count": null,
   "metadata": {},
   "outputs": [],
   "source": [
    "mvp_votings.head()"
   ]
  },
  {
   "cell_type": "markdown",
   "metadata": {},
   "source": [
    "## Who's On This List?\n",
    "Coming as no surprise, the list of players included on the MVP votings list includes some of the consensus top NBA players of all time. In fact, any player who has won the MVP award has been enshrined in the Naismith Memorial Hall of Fame. Just to illustrate, on this list we have:\n",
    "* Michael Jordan\n",
    "* LeBron James\n",
    "* Wilt Chamberlain\n",
    "* Kareem Abdul-Jabbar\n",
    "* Magic Johnson\n",
    "* Julius Erving\n",
    "* Larry Bird\n",
    "* Charles Barkley\n",
    "* Hakeem Olajuwon \n",
    "* Kobe Bryant \n",
    "* Shaquille O' Neal\n",
    "* Stephen Curry \n",
    "* Kevin Durant\n",
    "* Tim Duncan\n",
    "* And many, many more...\n",
    "[1]: https://a.espncdn.com/photo/2009/0528/nba_jabbarhook01_412.jpg\n",
    "[2]: https://www.si.com/.image/c_fit%2Ccs_srgb%2Cfl_progressive%2Cq_auto:good%2Cw_620/MTY4MTg2MDIyNzgyODM4MDMz/1988-michael-jordan-001238167_0jpg.jpg\n",
    "[3]: https://lasentinel.net/wp-content/uploads/sites/5/2019/01/AP_18326142644065.jpg"
   ]
  },
  {
   "cell_type": "code",
   "execution_count": null,
   "metadata": {},
   "outputs": [],
   "source": [
    "test_data.head()"
   ]
  },
  {
   "cell_type": "markdown",
   "metadata": {},
   "source": [
    "## Who are we predicting for?\n",
    "Obviously, the 2018-2019 season has been over for quite a while now and the MVP was Giannis Antetokounmpo. However, at the time that this dataset was published, the season was still on-going. The leading contenders for the award were Harden and Giannis, but the test data list contains a few more players. There's Kawhi, Curry, Lillard, Jokic, Gobert, Westbrook, PG and Embiid, just to name a few.  "
   ]
  },
  {
   "cell_type": "code",
   "execution_count": null,
   "metadata": {},
   "outputs": [],
   "source": [
    "print(mvp_votings.columns)\n",
    "print(test_data.columns)"
   ]
  },
  {
   "cell_type": "markdown",
   "metadata": {},
   "source": [
    "## The Statistics\n",
    "As for the data being used for predictions, it consists of basic statistics (points/assists/rebounds/steals/blocks/minutes per game, field goals made, field goal attempts, win percentage), accuracy metrics (true shooting percentage, field goal percentage, 3-point percentage, free throw shooting) and advanced metrics (**B**ox **P**lus/**M**inus, **W**in **S**hares, both per 48 and overall, usage percentage). \n",
    "\n",
    "The advanced metrics are mostly derived via equations from the basic metrics, so it's not ideal to examine the relationship between the 2. As the point of this notebook is to predict the next MVP and not analyze trends between statistics, relationships between these metrics will be left unexplored. Of utmost importance is the relationship between each variable and the points won/award share."
   ]
  },
  {
   "cell_type": "markdown",
   "metadata": {},
   "source": [
    "# Basic Statistics"
   ]
  },
  {
   "cell_type": "code",
   "execution_count": null,
   "metadata": {},
   "outputs": [],
   "source": [
    "#The ever-important scoring metric: points per game\n",
    "plt.plot(mvp_votings['pts_per_g'], mvp_votings['points_won'], 'bo')\n",
    "plt.ylabel('MVP Votes Won')\n",
    "plt.xlabel('Points Per Game')"
   ]
  },
  {
   "cell_type": "markdown",
   "metadata": {},
   "source": [
    "Due to the nature of MVP voting, only a **handful of players** actually receive more than 200 points per voting season. Even with all the noise present in the graph, it is easy to see that higher scoring generally translates to higher point totals. Curry's unanimous MVP season, for example, is the highest point on the graph, wherein he averaged 30.1 points. In general, it seems as if a PPG value from 27 to 32 is the \"sweet spot\" for voters. Historical scoring performances may involve a high count of free throw attempts per game, which may damage a player's narrative."
   ]
  },
  {
   "cell_type": "code",
   "execution_count": null,
   "metadata": {},
   "outputs": [],
   "source": [
    "plt.plot(mvp_votings['ast_per_g'], mvp_votings['points_won'], 'bo')\n",
    "plt.ylabel('MVP Votes Won')\n",
    "plt.xlabel('Assists Per Game')"
   ]
  },
  {
   "cell_type": "markdown",
   "metadata": {},
   "source": [
    "**Surprisingly, assists per game do not seem to have any sort of overall trend in relation to MVP voting.** Players at both ends of the assist spectrum have received high vote counts. In reality, this graph demonstrates that averaging more than 10 assists per game is a relative rarity even for MVP-caliber players. The last season in which the MVP winner averaged 10+ assists per game was in 2016-2017, when Russell Westbrook **averaged a triple double for an entire season.**  "
   ]
  },
  {
   "cell_type": "code",
   "execution_count": null,
   "metadata": {},
   "outputs": [],
   "source": [
    "plt.plot(mvp_votings['trb_per_g'], mvp_votings['points_won'], 'bo')\n",
    "plt.ylabel('MVP Votes Won')\n",
    "plt.xlabel('Total Rebounds Per Game')"
   ]
  },
  {
   "cell_type": "markdown",
   "metadata": {},
   "source": [
    "**Total rebounds have even less of a trend than assists, and the distribution is much more tightly packed.** It doesn't seem as if total rebounding has strong predictive power for MVP voting. Even further, rebounding anomalies such as Dennis Rodman (whose monstrous 18.7, 17.3 and 16.8 RPG seasons are shown) saw abysmal voting in their favour (26, 1 and 9 points)."
   ]
  },
  {
   "cell_type": "code",
   "execution_count": null,
   "metadata": {},
   "outputs": [],
   "source": [
    "plt.plot(mvp_votings['stl_per_g'], mvp_votings['points_won'], 'bo')\n",
    "plt.ylabel('MVP Votes Won')\n",
    "plt.xlabel('Steals Per Game')"
   ]
  },
  {
   "cell_type": "markdown",
   "metadata": {},
   "source": [
    "**As for steals per game, there seems to be a linear trend.** It appears to form stacks, due to the narrow range recorded for steals per game. There seems to be a cluster of players receiving 500-700 points between 1.5 to 2.0 steals per game, which means it could serve as an indicator of points earned better than rebounds and assists.   "
   ]
  },
  {
   "cell_type": "code",
   "execution_count": null,
   "metadata": {},
   "outputs": [],
   "source": [
    "plt.plot(mvp_votings['blk_per_g'], mvp_votings['points_won'], 'bo')\n",
    "plt.ylabel('MVP Votes Won')\n",
    "plt.xlabel('Blocks Per Game')"
   ]
  },
  {
   "cell_type": "markdown",
   "metadata": {},
   "source": [
    "**As always, defense doesn't seem to factor in as much as it should, overshadowed by players who can score-at-will.** That is not to say, however, that there are no players with high blocks per game who received the MVP award, given players like Shaquille O' Neal (3.0 blocks per game, 1999-2000). Most players are clustered in the 0-1 range, which indicates that it may not be a great predictor of MVP voting. "
   ]
  },
  {
   "cell_type": "code",
   "execution_count": null,
   "metadata": {},
   "outputs": [],
   "source": [
    "plt.plot(mvp_votings['win_pct'], mvp_votings['points_won'], 'bo')\n",
    "plt.ylabel('MVP Votes Won')\n",
    "plt.xlabel('Win Percentage')"
   ]
  },
  {
   "cell_type": "markdown",
   "metadata": {},
   "source": [
    "Unsurprisingly, win percentage has the strongest trend of any \"basic\" metric. Obviously, the Most Valuable Player will make sure their team wins, at least as much as humanly possible. Russell Westbrook is the only MVP whose team ended the season with less than 50 wins (< 61%). It is probably one of the most important features. "
   ]
  },
  {
   "cell_type": "markdown",
   "metadata": {},
   "source": [
    "# Conclusions: Basic Metrics\n",
    "On a per-statistic basis, it may not seem like any of them except points per game and win percentage are accurate indicators of voting performance. However, all of them combined will serve to paint a much better picture, because just scoring is not enough to become the Most Valuable Player. It's necessary that a candidate be somewhat average in every basic statistic, making up for their lacunas in other ways. In an era when teams as a whole, for example, average 4.7-5.1 blocks per game, the MVP doesn't need to average 60% of the team's blocks. \n",
    "# Attempts, Accuracy and Advanced Metrics"
   ]
  },
  {
   "cell_type": "code",
   "execution_count": null,
   "metadata": {},
   "outputs": [],
   "source": [
    "plt.figure(1)\n",
    "plt.plot(mvp_votings['fga'], mvp_votings['points_won'], 'bo')\n",
    "plt.ylabel('MVP Votes Won')\n",
    "plt.xlabel('Field Goal Attempts')\n",
    "plt.figure(2)\n",
    "plt.plot(mvp_votings['fg3a'], mvp_votings['points_won'], 'bo', label = '2')\n",
    "plt.ylabel('MVP Votes Won')\n",
    "plt.xlabel('3-Point Field Goal Attempts')\n",
    "plt.figure(3)\n",
    "plt.plot(mvp_votings['fta'], mvp_votings['points_won'], 'bo')\n",
    "plt.ylabel('MVP Votes Won')\n",
    "plt.xlabel('Free Throw Attempts')"
   ]
  },
  {
   "cell_type": "code",
   "execution_count": null,
   "metadata": {},
   "outputs": [],
   "source": [
    "plt.figure(1)\n",
    "plt.plot(mvp_votings['fg_pct'], mvp_votings['points_won'], 'bo')\n",
    "plt.ylabel('MVP Votes Won')\n",
    "plt.xlabel('Field Goal Percentage')\n",
    "plt.figure(2)\n",
    "plt.plot(mvp_votings['fg3_pct'], mvp_votings['points_won'], 'bo', label = '2')\n",
    "plt.ylabel('MVP Votes Won')\n",
    "plt.xlabel('3-Point Field Goal Percentage')\n",
    "plt.figure(3)\n",
    "plt.plot(mvp_votings['ft_pct'], mvp_votings['points_won'], 'bo')\n",
    "plt.ylabel('MVP Votes Won')\n",
    "plt.xlabel('Free Throw Percentage')"
   ]
  },
  {
   "cell_type": "markdown",
   "metadata": {},
   "source": [
    "### Are attempts or accuracy percentages better predictors? \n",
    "The appearances of the graphs (attempts vs. percentage) does not noticeably differ, and the strongest trend seems to be seen in the graphs for free throws (both attempts and percentage). Efficiency, however, does appear to be a significant cut-off factor for MVP winners. In the field goal percentage graph, the majority of players receiving more than 800 points in voting have a field goal percentage of at least 50%. The 3 pointer does not see the same trend, mostly due to the fact that the *3-Point Revolution* is very recent, being brought about by the outrageous shooting performances of Steph Curry. Free throw attempts see a wide variation, but a free throw percentage of at least 75% seems to be the minimum for those receiving the most points"
   ]
  },
  {
   "cell_type": "code",
   "execution_count": null,
   "metadata": {},
   "outputs": [],
   "source": [
    "#Data exploration, what correlatess best with the target (votes)\n",
    "plt.plot(mvp_votings['per'], mvp_votings['points_won'], 'bo')\n",
    "plt.ylabel('MVP Votes Won')\n",
    "plt.xlabel('Player Efficiency Rating')"
   ]
  },
  {
   "cell_type": "code",
   "execution_count": null,
   "metadata": {},
   "outputs": [],
   "source": [
    "plt.plot(mvp_votings['ws'], mvp_votings['points_won'], 'bo')\n",
    "plt.ylabel('MVP Votes Won')\n",
    "plt.xlabel('Win Shares')"
   ]
  },
  {
   "cell_type": "code",
   "execution_count": null,
   "metadata": {},
   "outputs": [],
   "source": [
    "plt.plot(mvp_votings['ws_per_48'], mvp_votings['points_won'], 'bo')\n",
    "plt.ylabel('MVP Votes Won')\n",
    "plt.xlabel('Win Shares Per 48')"
   ]
  },
  {
   "cell_type": "code",
   "execution_count": null,
   "metadata": {},
   "outputs": [],
   "source": [
    "plt.plot(mvp_votings['usg_pct'], mvp_votings['points_won'], 'bo')\n",
    "plt.ylabel('MVP Votes Won')\n",
    "plt.xlabel('Usage Percentage')"
   ]
  },
  {
   "cell_type": "markdown",
   "metadata": {},
   "source": [
    "Surprisingly enough, the advanced metrics seem to have the strongest trend in relation to points won. Player Efficiency Rating and Win Shares / 48 have the strongest trend, while usage percentage is still a mix of values. Given the fact that win shares per 48 has a stronger trend, regular win shares will be disregarded when considering predictive features. For the most part, almost every other feature considered could be indicative of points won, and the incorporation of PER and WS/48 introduces redundancy (they are calculated based on the basic metrics).  "
   ]
  },
  {
   "cell_type": "code",
   "execution_count": null,
   "metadata": {},
   "outputs": [],
   "source": [
    "y = mvp_votings.points_won\n",
    "y_2 = mvp_votings.award_share\n",
    "feature_names = ['fga', 'fg3a', 'fta', 'per', 'ts_pct', 'usg_pct', 'bpm', 'win_pct', 'g', 'mp_per_g', 'pts_per_g', 'trb_per_g', 'ast_per_g', 'stl_per_g', 'blk_per_g', 'fg_pct', 'fg3_pct', 'ft_pct', 'ws_per_48']\n",
    "X = mvp_votings[feature_names]"
   ]
  },
  {
   "cell_type": "code",
   "execution_count": null,
   "metadata": {},
   "outputs": [],
   "source": [
    "def mse_random_forest(estimators, data_X, data_y, val_X, val_y):\n",
    "    test_model = RandomForestRegressor(n_estimators = estimators, random_state = 1)\n",
    "    test_model.fit(data_X, data_y)\n",
    "    predictions_y = test_model.predict(val_X)\n",
    "    return mean_squared_error(val_y, predictions_y)\n",
    "\n",
    "def mse_multi_layer_perceptron(hidden_layer_size_test, alpha_given, data_X, data_y, val_X, val_y):\n",
    "    test_model = MLPRegressor(solver = 'lbfgs', hidden_layer_sizes = hidden_layer_size_test, alpha = alpha_given, random_state = 1) \n",
    "    #The LBFGS optimizer is being used due to dataset size\n",
    "    test_model.fit(data_X, data_y)\n",
    "    predictions_y = test_model.predict(val_X)\n",
    "    return mean_squared_error(val_y, predictions_y)\n",
    "\n",
    "def mse_sgd(iter_test, alpha_given, data_X, data_y, val_X, val_y):\n",
    "    test_model = SGDRegressor(max_iter = iter_test, alpha = alpha_given)\n",
    "    test_model.fit(data_X, data_y)\n",
    "    predictions_y = test_model.predict(val_X)\n",
    "    return mean_squared_error(val_y, predictions_y)"
   ]
  },
  {
   "cell_type": "code",
   "execution_count": null,
   "metadata": {},
   "outputs": [],
   "source": [
    "#Simply testing as many regression models as possible, both for award share and points won\n",
    "#This code cell is dedicated to predicting POINTS WON, and nothing else. The next cell will deal with award share. \n",
    "from sklearn import svm #Support vector machine\n",
    "from sklearn.linear_model import SGDRegressor #Stochastic Gradient Descent \n",
    "from sklearn.linear_model import Ridge #Ridge regression\n",
    "from sklearn.ensemble import RandomForestRegressor #Random forest, w/ multiple decision trees\n",
    "from sklearn.neural_network import MLPRegressor #Multi-layer perceptron network\n",
    "from sklearn.metrics import mean_squared_error #Metric used for selecting best model\n",
    "from sklearn.model_selection import train_test_split #Utility function for creating training and validation data\n",
    "from sklearn import preprocessing #Scaling\n",
    "#Most of these models benefit strongly from scaling, to reduce data input to have a mean of 0 and variance 1\n",
    "X_scaled = preprocessing.scale(X)\n",
    "#Data is split here, for training and cross-validation sets\n",
    "train_X, val_X, train_y, val_y = train_test_split(X_scaled, y, random_state = 0)\n",
    "train_X2, val_X2, train_y2, val_y2 = train_test_split(X_scaled, y_2, random_state = 1)\n",
    "#Testing for which combination of characteristics helps produce the lowest validation error\n",
    "#RANDOM FOREST REGRESSION\n",
    "estimator_count = [50, 100, 200, 500, 1000]\n",
    "print(\"RANDOM FOREST OPTIONS\")\n",
    "for estimator in estimator_count:\n",
    "    print(\"Estimator count:\", estimator, \"| Mean Squared Error:\", mse_random_forest(estimator, train_X, train_y, val_X, val_y))\n",
    "mvp_model = RandomForestRegressor(n_estimators = 500, random_state = 1)#500 was found to be the best estimator count, a tad high but it should serve its purpose\n",
    "print('-----------------------------------------------------------------------------------------------------------')\n",
    "#MULTI-LAYER PERCEPTRON\n",
    "hidden_layer_sizes_test = [50, 100, 150, 200, 250]\n",
    "alpha = [0.0001, 0.0003, 0.001, 0.003]\n",
    "print(\"MULTI LAYER PERCEPTRON OPTIONS\")\n",
    "for layer_size in hidden_layer_sizes_test:\n",
    "    for alp_test in alpha:\n",
    "        print(\"Layer size: \", layer_size, \"| Alpha: \", alp_test, \"| Mean Squared Error: \", mse_multi_layer_perceptron(layer_size, alp_test, train_X, train_y, val_X, val_y))\n",
    "mvp_modelMLP = MLPRegressor(solver = 'lbfgs', hidden_layer_sizes = 150, alpha = 0.003, random_state = 1) #Minimum error was found with a layer size of 150 and alpha of 0.03\n",
    "print('-----------------------------------------------------------------------------------------------------------')\n",
    "#STOCHASTIC GRADIENT DESCENT\n",
    "print(\"STOCHASTIC GRADIENT DESCENT OPTIONS\")\n",
    "max_iters = [500, 1000, 1500, 2000, 2500]\n",
    "for iter_test in max_iters:\n",
    "    for alp_test in alpha:\n",
    "        print(\"Maximum iterations: \", iter_test, \"| Alpha: \", alp_test, \"| Mean Squared Error: \", mse_sgd(iter_test, alp_test, train_X, train_y, val_X, val_y))\n",
    "mvp_modelSGD = SGDRegressor(max_iter = 2500, alpha = 0.0003) #Maximum iterations of 2500, alpha 3 times default\n",
    "#Ridge Regression\n",
    "mvp_modelRidge = Ridge()\n",
    "#Support Vector Regression \n",
    "#SVR and Ridge will be left with no options tweaked, simply to keep 2 models default\n",
    "mvp_modelSVR = svm.SVR()\n",
    "#Model fitting\n",
    "mvp_model.fit(train_X, train_y)\n",
    "mvp_modelMLP.fit(train_X, train_y)\n",
    "mvp_modelSGD.fit(train_X, train_y)\n",
    "mvp_modelRidge.fit(train_X, train_y)\n",
    "mvp_modelSVR.fit(train_X, train_y)"
   ]
  },
  {
   "cell_type": "code",
   "execution_count": null,
   "metadata": {},
   "outputs": [],
   "source": [
    "#TO-DO LIST\n",
    "#Graphing to see whether or not it matches the original trendline\n",
    "#Analyzing why each player got such a high vote-count\n",
    "#SHAD Values to assess the main predictors of MVP voting as evaluated by models\n",
    "#Final predictions for the 18-19 season\n",
    "test_data['fg3_pct'] = test_data['fg3_pct'].fillna(value = 0)\n",
    "mvp_preds = mvp_model.predict(preprocessing.scale(test_data[feature_names]))\n",
    "mvp_predsMLP = mvp_modelMLP.predict(preprocessing.scale(test_data[feature_names]))\n",
    "mvp_predsSGD = mvp_modelSGD.predict(preprocessing.scale(test_data[feature_names]))\n",
    "mvp_predsRidge = mvp_modelRidge.predict(preprocessing.scale(test_data[feature_names]))\n",
    "mvp_predsSVR = mvp_modelSVR.predict(preprocessing.scale(test_data[feature_names]))\n",
    "test_data['Predicted MVP Voting Random Forest'] = mvp_preds\n",
    "test_data['Predicted MVP Voting MLP'] = mvp_predsMLP\n",
    "test_data['Predicted MVP Voting SGD'] = mvp_predsSGD\n",
    "test_data['Predicted MVP Voting Ridge'] = mvp_predsRidge\n",
    "test_data['Predicted MVP Voting SVR'] = mvp_predsSVR\n",
    "print(test_data[['player', 'Predicted MVP Voting Random Forest', 'Predicted MVP Voting MLP', 'Predicted MVP Voting SGD']].sort_values('Predicted MVP Voting Random Forest', ascending = False))\n",
    "print(test_data[['player', 'Predicted MVP Voting Ridge', 'Predicted MVP Voting SVR']].sort_values('Predicted MVP Voting Ridge', ascending = False))"
   ]
  },
  {
   "cell_type": "code",
   "execution_count": null,
   "metadata": {},
   "outputs": [],
   "source": [
    "#AWARD SHARE PREDICTIONS\n",
    "print(\"RANDOM FOREST OPTIONS\")\n",
    "for estimator in estimator_count:\n",
    "    print(\"Estimator count:\", estimator, \"| Mean Squared Error:\", mse_random_forest(estimator, train_X2, train_y2, val_X2, val_y2))\n",
    "award_model = RandomForestRegressor(n_estimators = 1000, random_state = 1)#500 was found to be the best estimator count, a tad high but it should serve its purpose\n",
    "print('-----------------------------------------------------------------------------------------------------------')\n",
    "#MULTI-LAYER PERCEPTRON\n",
    "print(\"MULTI LAYER PERCEPTRON OPTIONS\")\n",
    "for layer_size in hidden_layer_sizes_test:\n",
    "    for alp_test in alpha:\n",
    "        print(\"Layer size: \", layer_size, \"| Alpha: \", alp_test, \"| Mean Squared Error: \", mse_multi_layer_perceptron(layer_size, alp_test, train_X2, train_y2, val_X2, val_y2))\n",
    "award_modelMLP = MLPRegressor(solver = 'lbfgs', hidden_layer_sizes = 150, alpha = 0.0001, random_state = 1) #Minimum error was found with a layer size of 150 and alpha of 0.03\n",
    "print('-----------------------------------------------------------------------------------------------------------')\n",
    "#STOCHASTIC GRADIENT DESCENT\n",
    "for iter_test in max_iters:\n",
    "    for alp_test in alpha:\n",
    "        print(\"Maximum iterations: \", iter_test, \"| Alpha: \", alp_test, \"| Mean Squared Error: \", mse_sgd(iter_test, alp_test, train_X2, train_y2, val_X2, val_y2))\n",
    "award_modelSGD = SGDRegressor(max_iter = 1000, alpha = 0.003) #Maximum iterations of 2500, alpha 3 times default\n",
    "#Ridge Regression\n",
    "award_modelRidge = Ridge()\n",
    "#Support Vector Regression \n",
    "#SVR and Ridge will be left with no options tweaked, simply to keep 2 models default\n",
    "award_modelSVR = svm.SVR()\n",
    "#Model fitting\n",
    "award_model.fit(train_X2, train_y2)\n",
    "award_modelMLP.fit(train_X2, train_y2)\n",
    "award_modelSGD.fit(train_X2, train_y2)\n",
    "award_modelRidge.fit(train_X2, train_y2)\n",
    "award_modelSVR.fit(train_X2, train_y2)"
   ]
  },
  {
   "cell_type": "code",
   "execution_count": null,
   "metadata": {},
   "outputs": [],
   "source": [
    "award_preds = award_model.predict(preprocessing.scale(test_data[feature_names]))\n",
    "award_predsMLP = award_modelMLP.predict(preprocessing.scale(test_data[feature_names]))\n",
    "award_predsSGD = award_modelSGD.predict(preprocessing.scale(test_data[feature_names]))\n",
    "award_predsRidge = award_modelRidge.predict(preprocessing.scale(test_data[feature_names]))\n",
    "award_predsSVR = award_modelSVR.predict(preprocessing.scale(test_data[feature_names]))\n",
    "test_data['Predicted Award Share Random Forest'] = award_preds\n",
    "test_data['Predicted Award Share MLP'] = award_predsMLP\n",
    "test_data['Predicted Award Share SGD'] = award_predsSGD\n",
    "test_data['Predicted Award Share Ridge'] = award_predsRidge\n",
    "test_data['Predicted Award Share SVR'] = award_predsSVR\n",
    "print(test_data[['player', 'Predicted Award Share Random Forest', 'Predicted Award Share MLP', 'Predicted Award Share SGD']].sort_values('Predicted Award Share Random Forest', ascending = False))\n",
    "print(test_data[['player', 'Predicted Award Share Ridge', 'Predicted Award Share SVR']].sort_values('Predicted Award Share SVR', ascending = False))"
   ]
  }
 ],
 "metadata": {
  "kernelspec": {
   "display_name": "Python 3",
   "language": "python",
   "name": "python3"
  },
  "language_info": {
   "codemirror_mode": {
    "name": "ipython",
    "version": 3
   },
   "file_extension": ".py",
   "mimetype": "text/x-python",
   "name": "python",
   "nbconvert_exporter": "python",
   "pygments_lexer": "ipython3",
   "version": "3.8.5"
  }
 },
 "nbformat": 4,
 "nbformat_minor": 4
}
